{
 "cells": [
  {
   "cell_type": "markdown",
   "id": "88923224",
   "metadata": {},
   "source": [
    "# HR Analytics: Understanding Employee Attrition\n",
    "Analyzing trends and patterns in employee attrition using HR analytics data from Kaggle. The data is on Atlas Lab employees.\n",
    "\n",
    "## Objectives\n",
    "- Understand the distribution of employee attributes (age, department, role, etc.)\n",
    "- Explore patterns in employee attrition\n",
    "- Analyze job and performance satisfaction metrics\n",
    "- Identify factors correlated with attrition\n",
    "\n",
    "## Import Libraries"
   ]
  },
  {
   "cell_type": "code",
   "execution_count": null,
   "id": "88276d9b",
   "metadata": {},
   "outputs": [],
   "source": [
    "import pandas as pd\n",
    "import numpy as np \n",
    "import matplotlib.pyplot as plt\n",
    "import seaborn as sns"
   ]
  },
  {
   "cell_type": "markdown",
   "id": "0db057f4",
   "metadata": {},
   "source": [
    "## Load and Merge Data"
   ]
  },
  {
   "cell_type": "code",
   "execution_count": null,
   "id": "52f8dc7a",
   "metadata": {},
   "outputs": [],
   "source": [
    "# Load Data\n",
    "df_employee = pd.read_csv('Employee.csv')\n",
    "df_performance = pd.read_csv('PerformanceRating.csv')\n",
    "\n",
    "# Merge Data\n",
    "df_combined = pd.merge(df_employee, df_performance, on='EmployeeID')\n",
    "print(df_combined.shape)\n",
    "df_combined.head()"
   ]
  },
  {
   "cell_type": "markdown",
   "id": "c405a673",
   "metadata": {},
   "source": [
    "## Data Cleaning\n",
    "- dropping unnecessary columns \n",
    "- fixing column types\n",
    "- mapping binary and ordinal values"
   ]
  },
  {
   "cell_type": "code",
   "execution_count": null,
   "id": "883349c2",
   "metadata": {},
   "outputs": [],
   "source": [
    "# Display columns\n",
    "df_combined.info()\n",
    "df_combined.describe(include='all')\n",
    "\n",
    "# Missing values\n",
    "print(df_combined.isnull().sum())\n",
    "\n",
    "# Map binary values\n",
    "df_combined['Attrition'] = df_combined['Attrition'].map({'Yes':1, 'No': 0})\n",
    "df_combined['OverTime'] = df_combined['OverTime'].map({'Yes': 1, 'No':0})\n",
    "\n",
    "\n",
    "# Convert ordinal values\n",
    "from pandas.api.types import CategoricalDtype\n",
    "levels = CategoricalDtype(\n",
    "    categories=[1,2,3,4,5],\n",
    "    ordered=True\n",
    ")\n",
    "\n",
    "cols_to_convert = [\n",
    "    'EnvironmentSatisfaction',\n",
    "    'JobSatisfaction',\n",
    "    'RelationshipSatisfaction',\n",
    "    'WorkLifeBalance',\n",
    "    'SelfRating',\n",
    "    'ManagerRating',\n",
    "    'Education',\n",
    "]\n",
    "for col in cols_to_convert:\n",
    "    df_combined[col] = df_combined[col].astype(levels)\n",
    "\n",
    "# convert remaining categorical columns\n",
    "categorical_cols = ['BusinessTravel', 'Department', 'State', 'Ethnicity', 'EducationField', 'JobRole', \n",
    "                    'MaritalStatus', 'StockOptionLevel'\n",
    "                    ]\n",
    "for col in categorical_cols:\n",
    "    df_combined[col] = df_combined[col].astype('category')\n",
    "\n",
    "# one-hot encode categorical variables\n",
    "df_encoded = pd.get_dummies(df_combined, drop_first=True)\n",
    "\n",
    "# Date columns\n",
    "df_combined['HireDate'] = pd.to_datetime(df_combined['HireDate'])\n",
    "df_combined['ReviewDate'] = pd.to_datetime(df_combined['ReviewDate'])\n",
    "\n",
    "# Drop unused columns\n",
    "drop_columns = ['FirstName', 'LastName', 'PerformanceID']\n",
    "\n",
    "df_combined = df_combined.drop(drop_columns, axis=1)\n",
    "\n",
    "# Save cleaned data\n",
    "df_combined.to_csv('cleaned_employee_data.csv', index=False)"
   ]
  },
  {
   "cell_type": "markdown",
   "id": "78904f7f",
   "metadata": {},
   "source": [
    "\n",
    "## 1. Exploratory Data Analysis - Overview of Dataset"
   ]
  },
  {
   "cell_type": "code",
   "execution_count": null,
   "id": "85acb2b1",
   "metadata": {},
   "outputs": [],
   "source": [
    "# Set visual style\n",
    "sns.set(style='whitegrid', palette='dark')\n",
    "plt.rcParams['figure.figsize'] = (10, 6)\n",
    "\n",
    "# Load the dataset\n",
    "df = df_combined.copy()\n",
    "\n",
    "print(df.shape)\n",
    "df.info()\n",
    "df.describe()"
   ]
  },
  {
   "cell_type": "markdown",
   "id": "fe295bf7",
   "metadata": {},
   "source": [
    "Make functions to run statistic summaries for each column easier."
   ]
  },
  {
   "cell_type": "code",
   "execution_count": null,
   "id": "ad058be9",
   "metadata": {},
   "outputs": [],
   "source": [
    "# Create function to print out basic data stats \n",
    "# for qualitative variables\n",
    "def qual_summary(df, column):\n",
    "    \"\"\"\n",
    "    Prints the count and percentage of each category in the specified column.\n",
    "    Parameters: \n",
    "    df (DataFrame): The DataFrame containing the data.\n",
    "    column (str): The name of the column to summarize.\n",
    "    \"\"\"\n",
    "    total = len(df)\n",
    "    counts = df[column].value_counts()\n",
    "    percentages = counts / total * 100\n",
    "\n",
    "    print(f\"\\nColumn: {column}\")\n",
    "    for category, count in counts.items():\n",
    "        print(f\"{category}: {count} ({percentages[category]:.2f}%)\")\n",
    "\n",
    "# Same concept but for qualitative variables\n",
    "def quant_summary(df, column):\n",
    "    \"\"\"\n",
    "    Prints summary stats for a numeric column:\n",
    "    (mean, median, mode, min, max, and range)\n",
    "\n",
    "    Parameters:\n",
    "    df (DataFrame): The DataFrame containing the data.\n",
    "    column (str): The name of the numeric column to summarize.\n",
    "    \"\"\"\n",
    "    series = df[column].dropna() # for missing values\n",
    "    mean = series.mean()\n",
    "    median = series.median()\n",
    "    mode = series.mode().values[0]\n",
    "    min_val = series.min()\n",
    "    max_val = series.max()\n",
    "    range_val = max_val - min_val\n",
    "    print(f\"\\nSummary of '{column}:\")\n",
    "    print(f\"Mean: {mean:.2f}\")\n",
    "    print(f\"Median: {median}\")\n",
    "    print(f\"Mode: {mode}\")\n",
    "    print(f\"Min: {min_val}\")\n",
    "    print(f\"Max: {max_val}\")\n",
    "    print(f\"Range: {range_val}\")"
   ]
  },
  {
   "cell_type": "markdown",
   "id": "94993486",
   "metadata": {},
   "source": [
    "## 2. Univariate Analysis\n",
    "- Count plots: Attrition, Gender, Department\n",
    "- Histograms: Age"
   ]
  },
  {
   "cell_type": "code",
   "execution_count": null,
   "id": "1098c27c",
   "metadata": {},
   "outputs": [],
   "source": [
    "# Attrition Count\n",
    "sns.countplot(x='Attrition', data=df)\n",
    "plt.title('Employee Attrition Count')\n",
    "plt.show()\n",
    "qual_summary(df, 'Attrition')"
   ]
  },
  {
   "cell_type": "markdown",
   "id": "7d0eb1cc",
   "metadata": {},
   "source": [
    "4448 employees stayed with the company, while 2261 left, out of a total of 6709. This shows that the retention rate (66.3%) of the company is higher-than-average, while the turnover rate is lower (33.7%)."
   ]
  },
  {
   "cell_type": "code",
   "execution_count": null,
   "id": "b2f5be3a",
   "metadata": {},
   "outputs": [],
   "source": [
    "# Distribution of Age\n",
    "sns.histplot(df['Age'], kde=True)\n",
    "plt.title('Age Distribution')\n",
    "plt.show()"
   ]
  },
  {
   "cell_type": "markdown",
   "id": "fc4ba19b",
   "metadata": {},
   "source": [
    "### Key Observations:\n",
    "- The age distribution of employees peaks between ages 25 and 30, with the highest amount of employees around age 25. \n",
    "- After age 30, the number of employees gradually decreases, resulting in a more even spread across older age groups. \n",
    "- The oldest employees are 51, while the youngest are 18. \n",
    "- This suggests that the company likely hires younger adults, many of whom may be early in their careers, rather than older, more experienced employees."
   ]
  },
  {
   "cell_type": "code",
   "execution_count": null,
   "id": "cf848677",
   "metadata": {},
   "outputs": [],
   "source": [
    "# Gender Count\n",
    "sns.countplot(x='Gender', data=df)\n",
    "plt.title('Employee Gender Count')\n",
    "plt.show()"
   ]
  },
  {
   "cell_type": "markdown",
   "id": "f3dd3e5e",
   "metadata": {},
   "source": [
    "### Key Observations: \n",
    "- 46% of the employees are female, while 44.24% are male.\n",
    "- 8.7% identify as non-binary.\n",
    "- Only 0.91% of employees chose not to disclose their gender.\n",
    "- The majority of employees identify as either female or male.\n",
    "- Female representation is slightly higher than male, suggesting a near gender balance with a slight female majority."
   ]
  },
  {
   "cell_type": "code",
   "execution_count": null,
   "id": "de42ecfb",
   "metadata": {},
   "outputs": [],
   "source": [
    "# Department Count\n",
    "sns.countplot(x='Department', data=df)\n",
    "plt.title('Department Count')\n",
    "plt.show()\n",
    "qual_summary(df, 'Department')"
   ]
  },
  {
   "cell_type": "markdown",
   "id": "d5db1ae5",
   "metadata": {},
   "source": [
    "### Key Observations:\n",
    "- 63.45% of employees work in Technology.\n",
    "- 32.03% of employees work in Sales. \n",
    "- 4.52% of employees work in Human Resources.\n",
    "- The workforce is heavily concentrated in Technology roles, suggesting that this is a tech-focused company - which aligns with the name Atlas Lab. "
   ]
  },
  {
   "cell_type": "code",
   "execution_count": null,
   "id": "fac6a5a0",
   "metadata": {},
   "outputs": [],
   "source": []
  }
 ],
 "metadata": {
  "language_info": {
   "name": "python"
  }
 },
 "nbformat": 4,
 "nbformat_minor": 5
}
