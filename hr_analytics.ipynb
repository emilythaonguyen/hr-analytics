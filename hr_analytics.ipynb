{
 "cells": [
  {
   "cell_type": "markdown",
   "id": "88923224",
   "metadata": {},
   "source": [
    "# HR Analytics: Understanding Employee Attrition\n",
    "Analyzing trends and patterns in employee attrition using HR analytics data from Kaggle.\n",
    "\n",
    "## Objectives\n",
    "- Understand the distribution of employee attributes (age, department, role, etc.)\n",
    "- Explore patterns in employee attrition\n",
    "- Analyze job and performance satisfaction metrics\n",
    "- Identify factors correlated with attrition\n"
   ]
  }
 ],
 "metadata": {
  "language_info": {
   "name": "python"
  }
 },
 "nbformat": 4,
 "nbformat_minor": 5
}
